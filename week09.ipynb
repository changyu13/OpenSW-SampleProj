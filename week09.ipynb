{
 "cells": [
  {
   "cell_type": "code",
   "execution_count": 2,
   "metadata": {
    "collapsed": false
   },
   "outputs": [
    {
     "name": "stdout",
     "output_type": "stream",
     "text": [
      "실습 1 \n",
      "\n",
      "7 시간 36 분\n"
     ]
    }
   ],
   "source": [
    "#실습 1\n",
    "#456분은 몇시간 몇분인가?\n",
    "print(\"실습 1 \\n\")\n",
    "h= 456/60\n",
    "m= 456%60\n",
    "\n",
    "print(int(h),\"시간\",m,\"분\")"
   ]
  },
  {
   "cell_type": "code",
   "execution_count": 4,
   "metadata": {
    "collapsed": false
   },
   "outputs": [
    {
     "name": "stdout",
     "output_type": "stream",
     "text": [
      "실습 2 \n",
      "\n",
      "['김철수', '이영희', '임꺽정', '홍길동'] \n",
      "\n",
      "김철수 2.8\n"
     ]
    }
   ],
   "source": [
    "#실습 2\n",
    "#학점 데이터를 딕셔너리에 저장한 후, 이름순으로 첫번째 학생의 학점을 출력하는 프로그램 작성\n",
    "\n",
    "print(\"실습 2 \\n\")\n",
    "\n",
    "scores = {\"홍길동\":3.4,\"임꺽정\":4.0,\"김철수\":2.8,\"이영희\":3.9}\n",
    "\n",
    "data=scores.keys()\n",
    "data_list=list(data)\n",
    "data_list.sort()\n",
    "print(data_list,\"\\n\")\n",
    "\n",
    "key=data_list[0]\n",
    "value=scores[key]\n",
    "print(key,value)"
   ]
  },
  {
   "cell_type": "code",
   "execution_count": null,
   "metadata": {
    "collapsed": true
   },
   "outputs": [],
   "source": []
  }
 ],
 "metadata": {
  "kernelspec": {
   "display_name": "Python 3",
   "language": "python",
   "name": "python3"
  },
  "language_info": {
   "codemirror_mode": {
    "name": "ipython",
    "version": 3
   },
   "file_extension": ".py",
   "mimetype": "text/x-python",
   "name": "python",
   "nbconvert_exporter": "python",
   "pygments_lexer": "ipython3",
   "version": "3.6.0"
  }
 },
 "nbformat": 4,
 "nbformat_minor": 2
}
